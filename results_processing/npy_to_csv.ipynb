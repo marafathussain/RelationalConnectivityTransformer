{
 "cells": [
  {
   "cell_type": "code",
   "execution_count": 2,
   "metadata": {},
   "outputs": [],
   "source": [
    "import numpy as np\n",
    "import pandas as pd\n",
    "import csv"
   ]
  },
  {
   "cell_type": "markdown",
   "metadata": {},
   "source": [
    "### BrainNetCNN Processing"
   ]
  },
  {
   "cell_type": "code",
   "execution_count": 10,
   "metadata": {},
   "outputs": [],
   "source": [
    "scores = ['fiq', 'piq', 'viq', 'fiq_r', 'piq_r', 'viq_r']\n",
    "combined_array = np.empty((0, 0))\n",
    "col_title = []\n",
    "\n",
    "for score in scores:\n",
    "    for fold in range(1, 6):\n",
    "        data = np.load(f'/home/ch225256/Data/miccai24/BrainNetCNN_{score}_vanilla_{fold}_validation_predictions.npy', allow_pickle=True).item()\n",
    "        \n",
    "        label = data['label'].reshape(160, 1)\n",
    "        predicted = data['predicted_score'].reshape(160, 1)\n",
    "        \n",
    "        if combined_array.size == 0:\n",
    "            combined_array = np.concatenate((label, predicted), axis=1)\n",
    "        else:\n",
    "            combined_array = np.concatenate((combined_array, label, predicted), axis=1)\n",
    "        \n",
    "        col_title = col_title + [f'{score}_{fold}_gt', f'{score}_{fold}_pred']\n",
    "\n",
    "\n",
    "# Convert the combined array to a Pandas DataFrame\n",
    "df = pd.DataFrame(combined_array, columns=col_title)\n",
    "df.to_csv(f'/home/ch225256/Data/miccai24/brainnetcnn.csv', index=False)"
   ]
  },
  {
   "cell_type": "markdown",
   "metadata": {},
   "source": [
    "### BrainNetworkTransformer Processing"
   ]
  },
  {
   "cell_type": "code",
   "execution_count": 8,
   "metadata": {},
   "outputs": [],
   "source": [
    "scores = ['fiq', 'piq', 'viq', 'fiq_r', 'piq_r', 'viq_r']\n",
    "combined_array = np.empty((0, 0))\n",
    "col_title = []\n",
    "\n",
    "for score in scores:\n",
    "    for fold in range(1, 6):\n",
    "        data = np.load(f'/home/ch225256/Data/miccai24/New_BrainNetworkTransformer_{score}_bnt_{fold}_results.npy', allow_pickle=True).item()\n",
    "        \n",
    "        label = data['label'].reshape(160, 1)\n",
    "        predicted = data['predicted_score'].reshape(160, 1)\n",
    "        \n",
    "        if combined_array.size == 0:\n",
    "            combined_array = np.concatenate((label, predicted), axis=1)\n",
    "        else:\n",
    "            combined_array = np.concatenate((combined_array, label, predicted), axis=1)\n",
    "        \n",
    "        col_title = col_title + [f'{score}_{fold}_gt', f'{score}_{fold}_pred']\n",
    "\n",
    "\n",
    "# Convert the combined array to a Pandas DataFrame\n",
    "df = pd.DataFrame(combined_array, columns=col_title)\n",
    "df.to_csv(f'/home/ch225256/Data/miccai24/BNT_200epochs.csv', index=False)"
   ]
  },
  {
   "cell_type": "markdown",
   "metadata": {},
   "source": [
    "### FBNETGEN Processing"
   ]
  },
  {
   "cell_type": "code",
   "execution_count": 24,
   "metadata": {},
   "outputs": [],
   "source": [
    "scores = ['fiq', 'piq', 'viq', 'fiq_r', 'piq_r', 'viq_r']\n",
    "combined_array = np.empty((0, 0))\n",
    "col_title = []\n",
    "\n",
    "for score in scores:\n",
    "    for fold in range(1, 6):\n",
    "        data = np.load(f'/home/ch225256/Data/miccai24/New_FBNETGEN_{score}_bnt_{fold}_results.npy', allow_pickle=True).item()\n",
    "        \n",
    "        label = data['label'].reshape(160, 1)\n",
    "        predicted = data['predicted_score'].reshape(160, 1)\n",
    "        \n",
    "        if combined_array.size == 0:\n",
    "            combined_array = np.concatenate((label, predicted), axis=1)\n",
    "        else:\n",
    "            combined_array = np.concatenate((combined_array, label, predicted), axis=1)\n",
    "        \n",
    "        col_title = col_title + [f'{score}_{fold}_gt', f'{score}_{fold}_pred']\n",
    "\n",
    "\n",
    "# Convert the combined array to a Pandas DataFrame\n",
    "df = pd.DataFrame(combined_array, columns=col_title)\n",
    "df.to_csv(f'/home/ch225256/Data/miccai24/New_FBNETGEN.csv', index=False)"
   ]
  },
  {
   "cell_type": "markdown",
   "metadata": {},
   "source": [
    "### GraphTransformer Processing"
   ]
  },
  {
   "cell_type": "code",
   "execution_count": 26,
   "metadata": {},
   "outputs": [],
   "source": [
    "scores = ['fiq', 'piq', 'viq', 'fiq_r', 'piq_r', 'viq_r']\n",
    "combined_array = np.empty((0, 0))\n",
    "col_title = []\n",
    "\n",
    "for score in scores:\n",
    "    for fold in range(1, 6):\n",
    "        data = np.load(f'/home/ch225256/Data/miccai24/New_GraphTransformer_{score}_bnt_{fold}_results.npy', allow_pickle=True).item()\n",
    "        \n",
    "        label = data['label'].reshape(160, 1)\n",
    "        predicted = data['predicted_score'].reshape(160, 1)\n",
    "        \n",
    "        if combined_array.size == 0:\n",
    "            combined_array = np.concatenate((label, predicted), axis=1)\n",
    "        else:\n",
    "            combined_array = np.concatenate((combined_array, label, predicted), axis=1)\n",
    "        \n",
    "        col_title = col_title + [f'{score}_{fold}_gt', f'{score}_{fold}_pred']\n",
    "\n",
    "\n",
    "# Convert the combined array to a Pandas DataFrame\n",
    "df = pd.DataFrame(combined_array, columns=col_title)\n",
    "df.to_csv(f'/home/ch225256/Data/miccai24/New_GraphTransformer.csv', index=False)"
   ]
  },
  {
   "cell_type": "markdown",
   "metadata": {},
   "source": [
    " ### Relational Brain Network Transformer Processing (shared backbone)"
   ]
  },
  {
   "cell_type": "code",
   "execution_count": 4,
   "metadata": {},
   "outputs": [],
   "source": [
    "#scores = ['fiq', 'piq', 'viq', 'fiq_r', 'piq_r', 'viq_r']\n",
    "scores = ['viq_r']\n",
    "combined_array = np.empty((0, 0))\n",
    "col_title = []\n",
    "\n",
    "for score in scores:\n",
    "    for fold in range(1, 4):\n",
    "        data = np.load(f'/home/ch225256/Data/miccai24/RelationalBrainNetworkTransformer3_{score}_noFC_{fold}_results.npy', allow_pickle=True).item()\n",
    "        \n",
    "        x, y = data['label1'].shape[0], data['label1'].shape[1]\n",
    "        \n",
    "        label_1 = data['label1'].reshape(x*y, 1)\n",
    "        label_2 = data['label2'].reshape(x*y, 1)\n",
    "        combined = data['combined_scores'].reshape(x*y, 4)\n",
    "        predicted = data['predicted_score'].reshape(x*y, 4)\n",
    "        \n",
    "        L11 = ((predicted[:, 0] + predicted[:, 1]) / 2.0).reshape(x*y, 1)\n",
    "        L12 = (np.where(predicted[:, 1] >= 0, predicted[:, 2], predicted[:, 3])).reshape(x*y, 1)\n",
    "        L21 = ((predicted[:, 0] - predicted[:, 1]) / 2.0).reshape(x*y, 1)\n",
    "        L22 = (np.where(predicted[:, 1] >= 0, predicted[:, 3], predicted[:, 2])).reshape(x*y, 1)\n",
    "        L1 = ((L11 + L12) / 2.0).reshape(x*y, 1)\n",
    "        L2 = ((L21 + L22) / 2.0).reshape(x*y, 1)\n",
    "\n",
    "        if combined_array.size == 0:\n",
    "            combined_array = np.concatenate((label_1, label_2, combined, predicted, L11, L12, L21, L22, L1, L2), axis=1)\n",
    "        else:\n",
    "            combined_array = np.concatenate((combined_array, label_1, label_2, combined, predicted, L11, L12, L21, L22, L1, L2), axis=1)\n",
    "        \n",
    "        col_title = col_title + [f'{score}_{fold}_gt_l1', f'{score}_{fold}_gt_l2', f'{score}_{fold}_gt_r1', f'{score}_{fold}_gt_r2', f'{score}_{fold}_gt_r3', f'{score}_{fold}_gt_r4', f'{score}_{fold}_pre_r1', f'{score}_{fold}_pre_r2', f'{score}_{fold}_pre_r3', f'{score}_{fold}_pre_r4', 'L11', 'L12', 'L21', 'L22', 'L1', 'L2']\n",
    "# Convert the combined array to a Pandas DataFrame\n",
    "df = pd.DataFrame(combined_array, columns=col_title)\n",
    "df.to_csv(f'/home/ch225256/Data/miccai24/RBNT_valcriteria_corrected_independentBackbone_noFC.csv', index=False)"
   ]
  },
  {
   "cell_type": "code",
   "execution_count": 23,
   "metadata": {},
   "outputs": [],
   "source": [
    "#L1 = L2\n",
    "indx = list(range(0,16)) + list(range(176,192)) + list(range(352,368)) + list(range(528,544)) + list(range(704,720)) + list(range(880,896)) + list(range(1056,1072)) + list(range(1232,1248)) + list(range(1408,1424)) + list(range(1584,1600))\n",
    "\n",
    "scores = ['fiq', 'piq', 'viq', 'fiq_r', 'piq_r', 'viq_r']\n",
    "combined_array = np.empty((0, 0))\n",
    "col_title = []\n",
    "\n",
    "for score in scores:\n",
    "    for fold in range(1, 6):\n",
    "        data = np.load(f'/home/ch225256/Data/miccai24/RelationalBrainNetworkTransformer3_{score}_noTran_{fold}_results.npy', allow_pickle=True).item()\n",
    "        \n",
    "        x, y = data['label1'].shape[0], data['label1'].shape[1]\n",
    "        \n",
    "        label_1 = data['label1'].reshape(x*y, 1)\n",
    "        label_2 = data['label2'].reshape(x*y, 1)\n",
    "        combined = data['combined_scores'].reshape(x*y, 4)\n",
    "        predicted = data['predicted_score'].reshape(x*y, 4)\n",
    "        \n",
    "        L11 = ((predicted[:, 0] + predicted[:, 1]) / 2.0).reshape(x*y, 1)\n",
    "        L12 = (np.where(predicted[:, 1] >= 0, predicted[:, 2], predicted[:, 3])).reshape(x*y, 1)\n",
    "        L21 = ((predicted[:, 0] - predicted[:, 1]) / 2.0).reshape(x*y, 1)\n",
    "        L22 = (np.where(predicted[:, 1] >= 0, predicted[:, 3], predicted[:, 2])).reshape(x*y, 1)\n",
    "        L1 = ((L11 + L12) / 2.0).reshape(x*y, 1)\n",
    "        L2 = ((L21 + L22) / 2.0).reshape(x*y, 1)\n",
    "\n",
    "        if combined_array.size == 0:\n",
    "            combined_array = np.concatenate((label_1[indx,:], label_2[indx,:], combined[indx,:], predicted[indx,:], L11[indx,:], L12[indx,:], L21[indx,:], L22[indx,:], L1[indx,:], L2[indx,:]), axis=1)\n",
    "        else:\n",
    "            combined_array = np.concatenate((combined_array, label_1[indx,:], label_2[indx,:], combined[indx,:], predicted[indx,:], L11[indx,:], L12[indx,:], L21[indx,:], L22[indx,:], L1[indx,:], L2[indx,:]), axis=1)\n",
    "        \n",
    "        col_title = col_title + [f'{score}_{fold}_gt_l1', f'{score}_{fold}_gt_l2', f'{score}_{fold}_gt_r1', f'{score}_{fold}_gt_r2', f'{score}_{fold}_gt_r3', f'{score}_{fold}_gt_r4', f'{score}_{fold}_pre_r1', f'{score}_{fold}_pre_r2', f'{score}_{fold}_pre_r3', f'{score}_{fold}_pre_r4', 'L11', 'L12', 'L21', 'L22', 'L1', 'L2']\n",
    "# Convert the combined array to a Pandas DataFrame\n",
    "df = pd.DataFrame(combined_array, columns=col_title)\n",
    "df.to_csv(f'/home/ch225256/Data/miccai24/L1equalL2_RBNT_valcriteria_corrected_noTran.csv', index=False)\n",
    "\n",
    "\n"
   ]
  },
  {
   "cell_type": "code",
   "execution_count": null,
   "metadata": {},
   "outputs": [],
   "source": [
    "for score in scores:\n",
    "    combined_array = np.empty((0, 0))\n",
    "    col_title = []\n",
    "    \n",
    "    for fold in range(1, 6):\n",
    "        data = np.load(f'/home/ch225256/Data/miccai24/RelationalBrainNetworkTransformer_{score}_k10_{fold}_validation_predictions.npy', allow_pickle=True).item()\n",
    "        \n",
    "        label_1 = data['label1'].reshape(1600, 1)\n",
    "        label_2 = data['label2'].reshape(1600, 1)\n",
    "        combined = data['combined_scores'].reshape(1600, 4)\n",
    "        predicted = data['predicted_score'].reshape(1600, 4)\n",
    "        \n",
    "        if combined_array.size == 0:\n",
    "            combined_array = np.concatenate((label_1, label_2, combined, predicted), axis=1)\n",
    "        else:\n",
    "            combined_array = np.concatenate((combined_array, label_1, label_2, combined, predicted), axis=1)\n",
    "        \n",
    "        col_title = col_title + [f'{score}_{fold}_gt_l1', f'{score}_{fold}_gt_l2', f'{score}_{fold}_gt_r1', f'{score}_{fold}_gt_r2', f'{score}_{fold}_gt_r3', f'{score}_{fold}_gt_r4', f'{score}_{fold}_gt_r1p', f'{score}_{fold}_gt_r2p', f'{score}_{fold}_gt_r3p', f'{score}_{fold}_gt_r4p']\n",
    "\n",
    "\n",
    "    # Convert the combined array to a Pandas DataFrame\n",
    "    df = pd.DataFrame(combined_array, columns=col_title)\n",
    "    df.to_csv(f'/home/ch225256/Data/miccai24/RBNT_sharedBackbone_{score}.csv', index=False)"
   ]
  },
  {
   "cell_type": "markdown",
   "metadata": {},
   "source": [
    " ### Relational Brain Network Transformer Processing (Independent backbone)"
   ]
  },
  {
   "cell_type": "code",
   "execution_count": 15,
   "metadata": {},
   "outputs": [],
   "source": [
    "scores = ['fiq', 'piq', 'viq', 'fiq_r', 'piq_r', 'viq_r']\n",
    "\n",
    "for score in scores:\n",
    "    combined_array = np.empty((0, 0))\n",
    "    col_title = []\n",
    "    \n",
    "    for fold in range(1, 6):\n",
    "        data = np.load(f'/home/ch225256/Data/miccai24/RelationalBrainNetworkTransformer2_{score}_k10_{fold}_validation_predictions.npy', allow_pickle=True).item()\n",
    "        \n",
    "        label_1 = data['label1'].reshape(1600, 1)\n",
    "        label_2 = data['label2'].reshape(1600, 1)\n",
    "        combined = data['combined_scores'].reshape(1600, 4)\n",
    "        predicted = data['predicted_score'].reshape(1600, 4)\n",
    "        \n",
    "        if combined_array.size == 0:\n",
    "            combined_array = np.concatenate((label_1, label_2, combined, predicted), axis=1)\n",
    "        else:\n",
    "            combined_array = np.concatenate((combined_array, label_1, label_2, combined, predicted), axis=1)\n",
    "        \n",
    "        col_title = col_title + [f'{score}_{fold}_gt_l1', f'{score}_{fold}_gt_l2', f'{score}_{fold}_gt_r1', f'{score}_{fold}_gt_r2', f'{score}_{fold}_gt_r3', f'{score}_{fold}_gt_r4', f'{score}_{fold}_gt_r1p', f'{score}_{fold}_gt_r2p', f'{score}_{fold}_gt_r3p', f'{score}_{fold}_gt_r4p']\n",
    "\n",
    "\n",
    "    # Convert the combined array to a Pandas DataFrame\n",
    "    df = pd.DataFrame(combined_array, columns=col_title)\n",
    "    df.to_csv(f'/home/ch225256/Data/miccai24/RBNT_IndependentBackbone_{score}.csv', index=False)"
   ]
  },
  {
   "cell_type": "code",
   "execution_count": 19,
   "metadata": {},
   "outputs": [
    {
     "name": "stdout",
     "output_type": "stream",
     "text": [
      "[[113.]\n",
      " [ 90.]\n",
      " [ 85.]\n",
      " ...\n",
      " [ 99.]\n",
      " [115.]\n",
      " [111.]] [[110.542114]\n",
      " [105.339355]\n",
      " [113.282524]\n",
      " ...\n",
      " [109.94698 ]\n",
      " [108.855896]\n",
      " [113.44516 ]]\n",
      "10.912004\n"
     ]
    }
   ],
   "source": [
    "scores = ['fiq', 'piq', 'viq', 'fiq_r', 'piq_r', 'viq_r']\n",
    "combined_array = np.empty((0, 0))\n",
    "col_title = []\n",
    "\n",
    "for score in scores:\n",
    "    for fold in range(1, 6):\n",
    "        data = np.load(f'/home/ch225256/Data/miccai24/RelationalBrainNetworkTransformer2_{score}_k10_{fold}_validation_predictions.npy', allow_pickle=True).item()\n",
    "        \n",
    "        label_1 = data['label1'].reshape(1600, 1)\n",
    "        label_2 = data['label2'].reshape(1600, 1)\n",
    "        combined = data['combined_scores'].reshape(1600, 4)\n",
    "        predicted = data['predicted_score'].reshape(1600, 4)\n",
    "        \n",
    "        L11 = ((predicted[:, 0] + predicted[:, 1]) / 2.0).reshape(1600, 1)\n",
    "        L12 = (np.where(predicted[:, 1] >= 0, predicted[:, 2], predicted[:, 3])).reshape(1600, 1)\n",
    "        L21 = ((predicted[:, 0] - predicted[:, 1]) / 2.0).reshape(1600, 1)\n",
    "        L22 = (np.where(predicted[:, 1] >= 0, predicted[:, 3], predicted[:, 2])).reshape(1600, 1)\n",
    "        L1 = ((L11 + L12) / 2.0).reshape(1600, 1)\n",
    "        L2 = ((L21 + L22) / 2.0).reshape(1600, 1)\n",
    "        \n",
    "        print(np.mean(np.abs(L1-label_1)))\n",
    "        #print((np.mean(np.abs(L1-label_1)) + np.mean(np.abs(L2-label_2))) / 2.0)\n",
    "        \n",
    "        break\n",
    "        if combined_array.size == 0:\n",
    "            combined_array = np.concatenate((label_1, label_2, combined, predicted, L11, L12, L21, L22, L1, L2), axis=1)\n",
    "        else:\n",
    "            combined_array = np.concatenate((combined_array, label_1, label_2, combined, predicted, L11, L12, L21, L22, L1, L2), axis=1)\n",
    "        \n",
    "        col_title = col_title + [f'{score}_{fold}_gt_l1', f'{score}_{fold}_gt_l2', f'{score}_{fold}_gt_r1', f'{score}_{fold}_gt_r2', f'{score}_{fold}_gt_r3', f'{score}_{fold}_gt_r4', f'{score}_{fold}_gt_r1p', f'{score}_{fold}_gt_r2p', f'{score}_{fold}_gt_r3p', f'{score}_{fold}_gt_r4p', 'L11', 'L12', 'L21', 'L22', 'L1', 'L2']\n",
    "    break\n",
    "# Convert the combined array to a Pandas DataFrame\n",
    "#df = pd.DataFrame(combined_array, columns=col_title)\n",
    "#df.to_csv(f'/home/ch225256/Data/miccai24/RBNT_IndependentBackbone.csv', index=False)"
   ]
  },
  {
   "cell_type": "markdown",
   "metadata": {},
   "source": [
    "### Two relational output"
   ]
  },
  {
   "cell_type": "code",
   "execution_count": null,
   "metadata": {},
   "outputs": [],
   "source": [
    "scores = ['fiq', 'piq', 'viq', 'fiq_r', 'piq_r', 'viq_r']\n",
    "combined_array = np.empty((0, 0))\n",
    "col_title = []\n",
    "\n",
    "for score in scores:\n",
    "    for fold in range(1, 4):\n",
    "        data = np.load(f'/home/ch225256/Data/miccai24/RelationalBrainNetworkTransformer3_{score}_indBB_onlyTran_2outputs_{fold}_results.npy', allow_pickle=True).item()\n",
    "        \n",
    "        x, y = data['label1'].shape[0], data['label1'].shape[1]\n",
    "        \n",
    "        label_1 = data['label1'].reshape(x*y, 1)\n",
    "        label_2 = data['label2'].reshape(x*y, 1)\n",
    "        combined = data['combined_scores'].reshape(x*y, 2)\n",
    "        predicted = data['predicted_score'].reshape(x*y, 2)\n",
    "        \n",
    "        L1 = ((predicted[:, 0] + predicted[:, 1]) / 2.0).reshape(x*y, 1)\n",
    "        L2 = ((predicted[:, 0] - predicted[:, 1]) / 2.0).reshape(x*y, 1)\n",
    "\n",
    "        if combined_array.size == 0:\n",
    "            combined_array = np.concatenate((label_1, label_2, combined, predicted, L1, L2), axis=1)\n",
    "        else:\n",
    "            combined_array = np.concatenate((combined_array, label_1, label_2, combined, predicted, L1, L2), axis=1)\n",
    "        \n",
    "        col_title = col_title + [f'{score}_{fold}_gt_l1', f'{score}_{fold}_gt_l2', f'{score}_{fold}_gt_r1', f'{score}_{fold}_gt_r2', f'{score}_{fold}_pre_r1', f'{score}_{fold}_pre_r2', 'L1', 'L2']\n",
    "# Convert the combined array to a Pandas DataFrame\n",
    "df = pd.DataFrame(combined_array, columns=col_title)\n",
    "df.to_csv(f'/home/ch225256/Data/miccai24/RBNT_2Out_independentBackbone_onlyFTran.csv', index=False)"
   ]
  }
 ],
 "metadata": {
  "kernelspec": {
   "display_name": "bnt",
   "language": "python",
   "name": "python3"
  },
  "language_info": {
   "codemirror_mode": {
    "name": "ipython",
    "version": 3
   },
   "file_extension": ".py",
   "mimetype": "text/x-python",
   "name": "python",
   "nbconvert_exporter": "python",
   "pygments_lexer": "ipython3",
   "version": "3.9.13"
  }
 },
 "nbformat": 4,
 "nbformat_minor": 2
}
